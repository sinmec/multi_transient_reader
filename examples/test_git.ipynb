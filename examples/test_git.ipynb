{
 "cells": [
  {
   "cell_type": "code",
   "execution_count": null,
   "id": "ca049e1c-a4be-46d5-a0a4-d7badcaa0112",
   "metadata": {
    "id": "ca049e1c-a4be-46d5-a0a4-d7badcaa0112"
   },
   "outputs": [],
   "source": [
    "import matplotlib.pyplot as plt\n",
    "import numpy as np\n",
    "from pathlib import Path"
   ]
  },
  {
   "cell_type": "code",
   "execution_count": 1,
   "id": "6dd694b4-b174-44ab-baea-6cd759f9e98c",
   "metadata": {
    "id": "6dd694b4-b174-44ab-baea-6cd759f9e98c"
   },
   "outputs": [
    {
     "ename": "ModuleNotFoundError",
     "evalue": "No module named 'src'",
     "output_type": "error",
     "traceback": [
      "\u001b[1;31m---------------------------------------------------------------------------\u001b[0m",
      "\u001b[1;31mModuleNotFoundError\u001b[0m                       Traceback (most recent call last)",
      "Cell \u001b[1;32mIn[1], line 1\u001b[0m\n\u001b[1;32m----> 1\u001b[0m \u001b[38;5;28;01mfrom\u001b[39;00m \u001b[38;5;21;01msrc\u001b[39;00m\u001b[38;5;21;01m.\u001b[39;00m\u001b[38;5;21;01mxls_reader\u001b[39;00m\u001b[38;5;21;01m.\u001b[39;00m\u001b[38;5;21;01malfasim\u001b[39;00m\u001b[38;5;21;01m.\u001b[39;00m\u001b[38;5;21;01mfrom_export\u001b[39;00m\u001b[38;5;21;01m.\u001b[39;00m\u001b[38;5;21;01mxls_reader\u001b[39;00m \u001b[38;5;28;01mimport\u001b[39;00m create_trend_result_dictionary\n",
      "\u001b[1;31mModuleNotFoundError\u001b[0m: No module named 'src'"
     ]
    }
   ],
   "source": [
    "from src.xls_reader.alfasim.from_export.xls_reader import create_trend_result_dictionary"
   ]
  },
  {
   "cell_type": "code",
   "execution_count": null,
   "id": "84c00e52-81e2-4e1e-b7c9-f7795a73284e",
   "metadata": {
    "id": "84c00e52-81e2-4e1e-b7c9-f7795a73284e"
   },
   "outputs": [],
   "source": []
  },
  {
   "cell_type": "code",
   "execution_count": null,
   "id": "019a651f-2b59-44e7-ba93-8934a5cffe8b",
   "metadata": {
    "id": "019a651f-2b59-44e7-ba93-8934a5cffe8b"
   },
   "outputs": [],
   "source": []
  },
  {
   "cell_type": "code",
   "execution_count": null,
   "id": "b7928db6-a69b-42d2-8a28-bd7eeaa43156",
   "metadata": {
    "id": "b7928db6-a69b-42d2-8a28-bd7eeaa43156"
   },
   "outputs": [],
   "source": []
  },
  {
   "cell_type": "code",
   "execution_count": null,
   "id": "6473b779-41e0-481c-9496-53238a27b033",
   "metadata": {
    "id": "6473b779-41e0-481c-9496-53238a27b033"
   },
   "outputs": [],
   "source": []
  },
  {
   "cell_type": "code",
   "execution_count": null,
   "id": "7bbd8cd8-0d7d-457c-b247-75fff11f9bc7",
   "metadata": {
    "id": "7bbd8cd8-0d7d-457c-b247-75fff11f9bc7"
   },
   "outputs": [],
   "source": []
  },
  {
   "cell_type": "code",
   "execution_count": null,
   "id": "05b88f90-3e85-445c-ad73-3ca4596c5bdd",
   "metadata": {
    "id": "05b88f90-3e85-445c-ad73-3ca4596c5bdd"
   },
   "outputs": [],
   "source": []
  },
  {
   "cell_type": "code",
   "execution_count": null,
   "id": "a5e4a677-36b9-4b65-b27a-53cce3e8a1ed",
   "metadata": {
    "id": "a5e4a677-36b9-4b65-b27a-53cce3e8a1ed"
   },
   "outputs": [],
   "source": []
  }
 ],
 "metadata": {
  "colab": {
   "provenance": []
  },
  "kernelspec": {
   "display_name": "Python 3 (ipykernel)",
   "language": "python",
   "name": "python3"
  },
  "language_info": {
   "codemirror_mode": {
    "name": "ipython",
    "version": 3
   },
   "file_extension": ".py",
   "mimetype": "text/x-python",
   "name": "python",
   "nbconvert_exporter": "python",
   "pygments_lexer": "ipython3",
   "version": "3.11.5"
  }
 },
 "nbformat": 4,
 "nbformat_minor": 5
}
